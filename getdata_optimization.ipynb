{
  "nbformat": 4,
  "nbformat_minor": 0,
  "metadata": {
    "colab": {
      "name": "getdata_optimization.ipynb",
      "provenance": [],
      "collapsed_sections": [],
      "authorship_tag": "ABX9TyNi8mAy2jAw/n6hgbppDfkn",
      "include_colab_link": true
    },
    "kernelspec": {
      "name": "python3",
      "display_name": "Python 3"
    },
    "language_info": {
      "name": "python"
    }
  },
  "cells": [
    {
      "cell_type": "markdown",
      "metadata": {
        "id": "view-in-github",
        "colab_type": "text"
      },
      "source": [
        "<a href=\"https://colab.research.google.com/github/dotserver/dotserver/blob/main/getdata_optimization.ipynb\" target=\"_parent\"><img src=\"https://colab.research.google.com/assets/colab-badge.svg\" alt=\"Open In Colab\"/></a>"
      ]
    },
    {
      "cell_type": "code",
      "source": [
        "input_list = [1, 2, -3]\n",
        "output_list = []\n",
        "for x in input_list:\n",
        "  if x >= 0:       \n",
        "    output_list.append(1)    \n",
        "else:        \n",
        "  output_list.append(0)\n",
        "output_list"
      ],
      "metadata": {
        "colab": {
          "base_uri": "https://localhost:8080/"
        },
        "id": "r4dpVre5-hon",
        "outputId": "90000595-0e6a-4c3d-94c2-24a2fd474241"
      },
      "execution_count": null,
      "outputs": [
        {
          "output_type": "execute_result",
          "data": {
            "text/plain": [
              "[1, 1, 0]"
            ]
          },
          "metadata": {},
          "execution_count": 8
        }
      ]
    },
    {
      "cell_type": "code",
      "source": [
        "output_list = [1 if x >= 0 else 0 for x in input_list]\n",
        "output_list"
      ],
      "metadata": {
        "colab": {
          "base_uri": "https://localhost:8080/"
        },
        "id": "M9KyLvC3GUrL",
        "outputId": "ad6cdd01-482d-40e5-dcfd-1c0708e503ad"
      },
      "execution_count": null,
      "outputs": [
        {
          "output_type": "execute_result",
          "data": {
            "text/plain": [
              "[1, 1, 0]"
            ]
          },
          "metadata": {},
          "execution_count": 9
        }
      ]
    },
    {
      "cell_type": "code",
      "source": [
        "import timeit"
      ],
      "metadata": {
        "id": "Fw1PrAe_Glb1"
      },
      "execution_count": null,
      "outputs": []
    },
    {
      "cell_type": "code",
      "source": [
        "### Returning No Null values in the dataset\n",
        "# SELECT Country, InternetUse, Year FROM EconimicIndicators WHERE \n",
        "#                                       InternetUse IS NOT NULL\n",
        "\n",
        "\n",
        "### Returning Null values in the dataset\n",
        "# SELECT Country, InternetUse, Year FROM EconimicIndicators WHERE \n",
        "#                                       InternetUse IS NULL\n",
        "\n",
        "### Substituting missing data with a specific value using ISNULL\n",
        "# SELECT Country, InternetUse, Year ISNULL(Country, 'Unknown') AS NewCountry\n",
        "#             FROM EconimicIndicators.\n",
        "##### The above creates a new column that will replace miss data in column Country as 'Unknown'\n",
        "                                       \n"
      ],
      "metadata": {
        "id": "zaej_VOzG6Gn"
      },
      "execution_count": null,
      "outputs": []
    },
    {
      "cell_type": "code",
      "source": [
        "!pip install mysql-connector-python"
      ],
      "metadata": {
        "colab": {
          "base_uri": "https://localhost:8080/"
        },
        "id": "Elin5pmZL5ni",
        "outputId": "f6d4aa1e-f8a5-4ecb-d756-ee8bdef834ad"
      },
      "execution_count": null,
      "outputs": [
        {
          "output_type": "stream",
          "name": "stdout",
          "text": [
            "Looking in indexes: https://pypi.org/simple, https://us-python.pkg.dev/colab-wheels/public/simple/\n",
            "Collecting mysql-connector-python\n",
            "  Downloading mysql_connector_python-8.0.29-cp37-cp37m-manylinux1_x86_64.whl (25.2 MB)\n",
            "\u001b[K     |████████████████████████████████| 25.2 MB 1.7 MB/s \n",
            "\u001b[?25hRequirement already satisfied: protobuf>=3.0.0 in /usr/local/lib/python3.7/dist-packages (from mysql-connector-python) (3.17.3)\n",
            "Requirement already satisfied: six>=1.9 in /usr/local/lib/python3.7/dist-packages (from protobuf>=3.0.0->mysql-connector-python) (1.15.0)\n",
            "Installing collected packages: mysql-connector-python\n",
            "Successfully installed mysql-connector-python-8.0.29\n"
          ]
        }
      ]
    },
    {
      "cell_type": "code",
      "source": [
        "import pandas as pd\n",
        "import mysql.connector\n",
        "import datetime"
      ],
      "metadata": {
        "id": "w4hq55nbLehh"
      },
      "execution_count": null,
      "outputs": []
    },
    {
      "cell_type": "code",
      "source": [
        "def database_connetion(user, password, host, database, table, device, timestamp):\n",
        "  cnxn = mysql.connector.connect(user=user, password=password, host=host, database=database)\n",
        "  \n",
        "  columns = 'Timestamp, DevEUI, Temperature, Humidity, Pressure, LightW, MotionAVG, MotionRMCS, MotionSTDR'\n",
        "\n",
        "  if type(device) is str and type(timestamp) is str:\n",
        "    data = pd.read_sql_query('SELECT ' + columns + ' FROM ' + table + ' where DevEUI = \\'' + device + '\\'' + ' AND Timestamp LIKE \\'%' + timestamp + '%\\'',cnxn)\n",
        "    \n",
        "  if type(device) is str and type(timestamp) is list:\n",
        "    date_list = pd.date_range(start=timestamp[0],end=timestamp[1]).to_pydatetime().tolist()\n",
        "    temp = ' AND (Timestamp LIKE \\'%' + str(date_list[0].date())\n",
        "    for date in date_list[1:]:\n",
        "      temp = temp + '%\\' OR Timestamp LIKE \\'%' + str(date.date())\n",
        "    data = pd.read_sql_query('SELECT ' + columns + ' FROM ' + table + ' WHERE DevEUI = \\'' + device + '\\'' + temp + '%\\')', cnxn)\n",
        "\n",
        "  if type(device) is list and type(timestamp) is str:\n",
        "    temp = ' WHERE (DevEUI = \\'' + device[0]\n",
        "    for dev in device[1:]:\n",
        "      temp = temp + '\\' OR DevEUI = \\'' + dev\n",
        "    temp = temp + '\\') And Timestamp LIKE \\'%' + timestamp + '%\\''\n",
        "    data = pd.read_sql_query('SELECT * FROM ' + table + temp, cnxn)\n",
        "\n",
        "  if type(device) is list and type(timestamp) is list:\n",
        "    date_list = pd.date_range(start=timestamp[0],end=timestamp[1]).to_pydatetime().tolist()\n",
        "    temp = ' WHERE (DevEUI = \\'' + device[0]\n",
        "    for dev in device[1:]:\n",
        "      temp = temp + '\\' OR DevEUI = \\'' + dev\n",
        "\n",
        "    temp = temp + '\\') AND (Timestamp LIKE \\'%' + str(date_list[0].date())\n",
        "    for date in date_list[1:]:\n",
        "      temp = temp + '%\\' OR Timestamp LIKE \\'%' + str(date.date())\n",
        "    temp = temp  + '%\\')'\n",
        "\n",
        "    data = pd.read_sql_query('SELECT * FROM ' + table + temp, cnxn)\n",
        "\n",
        "  return data"
      ],
      "metadata": {
        "id": "aD7lZ7cKLgdL"
      },
      "execution_count": null,
      "outputs": []
    },
    {
      "cell_type": "code",
      "source": [
        "room_id = ['we','are','here']\n",
        "where_in = ','.join(['%s'] * len(room_id))"
      ],
      "metadata": {
        "id": "Gemwv5dFVe23"
      },
      "execution_count": null,
      "outputs": []
    },
    {
      "cell_type": "code",
      "source": [
        "where_in"
      ],
      "metadata": {
        "colab": {
          "base_uri": "https://localhost:8080/",
          "height": 35
        },
        "id": "PplE09bS0zkR",
        "outputId": "fbe738dd-4f37-477a-fe1c-6cdf9292a08f"
      },
      "execution_count": null,
      "outputs": [
        {
          "output_type": "execute_result",
          "data": {
            "text/plain": [
              "'%s,%s,%s'"
            ],
            "application/vnd.google.colaboratory.intrinsic+json": {
              "type": "string"
            }
          },
          "metadata": {},
          "execution_count": 2
        }
      ]
    },
    {
      "cell_type": "code",
      "source": [
        "timestamp = ['2022-02-07','2022-02-08']\n",
        "date_list = pd.date_range(start=timestamp[0],end=timestamp[1]).to_pydatetime().tolist()\n",
        "date_list"
      ],
      "metadata": {
        "colab": {
          "base_uri": "https://localhost:8080/"
        },
        "id": "3fAw5ooq07ZT",
        "outputId": "c98b9ea5-fbb1-4dc7-c52f-0397d79e726d"
      },
      "execution_count": null,
      "outputs": [
        {
          "output_type": "execute_result",
          "data": {
            "text/plain": [
              "[datetime.datetime(2022, 2, 7, 0, 0), datetime.datetime(2022, 2, 8, 0, 0)]"
            ]
          },
          "metadata": {},
          "execution_count": 8
        }
      ]
    },
    {
      "cell_type": "code",
      "source": [
        "cnxn = mysql.connector.connect(\n",
        "  host = \"client-data-fetch.cxsmphqeilrp.us-east-1.rds.amazonaws.com\",\n",
        "  user = \"instahub\",\n",
        "  password = \"fdc703UTPjk\",\n",
        "  database = \"devDB-v1\"\n",
        ")"
      ],
      "metadata": {
        "id": "3ZFgbWExAS33"
      },
      "execution_count": null,
      "outputs": []
    },
    {
      "cell_type": "code",
      "source": [
        "def database_connetion(user, password, host, database, table, device, timestamp):\n",
        "  cnxn = mysql.connector.connect(user=user, password=password, host=host, database=database)\n",
        "  \n",
        "  if type(device) is str and type(timestamp) is str:\n",
        "    data = pd.read_sql_query('SELECT ' + columns + ' FROM ' + table + ' where DevEUI = \\'' + device + '\\'' + ' AND Timestamp LIKE \\'%' + timestamp + '%\\'',cnxn)\n",
        "    \n",
        "  if type(device) is str and type(timestamp) is list:\n",
        "    date_list = pd.date_range(start=timestamp[0],end=timestamp[1]).to_pydatetime().tolist()\n",
        "    temp = ' AND (Timestamp LIKE \\'%' + str(date_list[0].date())\n",
        "    for date in date_list[1:]:\n",
        "      temp = temp + '%\\' OR Timestamp LIKE \\'%' + str(date.date())\n",
        "    data = pd.read_sql_query('SELECT ' + columns + ' FROM ' + table + ' WHERE DevEUI = \\'' + device + '\\'' + temp + '%\\')', cnxn)\n",
        "\n",
        "  if type(device) is list and type(timestamp) is str:\n",
        "    temp = ' WHERE (DevEUI = \\'' + device[0]\n",
        "    for dev in device[1:]:\n",
        "      temp = temp + '\\' OR DevEUI = \\'' + dev\n",
        "    temp = temp + '\\') And Timestamp LIKE \\'%' + timestamp + '%\\''\n",
        "    data = pd.read_sql_query('SELECT * FROM ' + table + temp, cnxn)\n",
        "\n",
        "  if type(device) is list and type(timestamp) is list:\n",
        "    date_list = pd.date_range(start=timestamp[0],end=timestamp[1]).to_pydatetime().tolist()\n",
        "    temp = ' WHERE (DevEUI = \\'' + device[0]\n",
        "    for dev in device[1:]:\n",
        "      temp = temp + '\\' OR DevEUI = \\'' + dev\n",
        "\n",
        "    temp = temp + '\\') AND (Timestamp LIKE \\'%' + str(date_list[0].date())\n",
        "    for date in date_list[1:]:\n",
        "      temp = temp + '%\\' OR Timestamp LIKE \\'%' + str(date.date())\n",
        "    temp = temp  + '%\\')'\n",
        "\n",
        "    data = pd.read_sql_query('SELECT * FROM ' + table + temp, cnxn)\n",
        "\n",
        "  return data"
      ],
      "metadata": {
        "id": "Ec0Nhc2tAqxw",
        "colab": {
          "base_uri": "https://localhost:8080/",
          "height": 169
        },
        "outputId": "4d8d8a42-7d70-4012-e169-bcc2df407789"
      },
      "execution_count": null,
      "outputs": [
        {
          "output_type": "error",
          "ename": "NameError",
          "evalue": "ignored",
          "traceback": [
            "\u001b[0;31m---------------------------------------------------------------------------\u001b[0m",
            "\u001b[0;31mNameError\u001b[0m                                 Traceback (most recent call last)",
            "\u001b[0;32m<ipython-input-2-058bcb93324e>\u001b[0m in \u001b[0;36m<module>\u001b[0;34m()\u001b[0m\n\u001b[0;32m----> 1\u001b[0;31m \u001b[0mmycursor\u001b[0m \u001b[0;34m=\u001b[0m \u001b[0mmydb\u001b[0m\u001b[0;34m.\u001b[0m\u001b[0mcursor\u001b[0m\u001b[0;34m(\u001b[0m\u001b[0;34m)\u001b[0m\u001b[0;34m\u001b[0m\u001b[0;34m\u001b[0m\u001b[0m\n\u001b[0m",
            "\u001b[0;31mNameError\u001b[0m: name 'mydb' is not defined"
          ]
        }
      ]
    },
    {
      "cell_type": "code",
      "source": [
        "first_query = \"SELECT username FROM user;\"\n",
        "mycursor.execute(first_query)\n",
        "username = list(x[0] for x in mycursor.fetchall())\n",
        "username"
      ],
      "metadata": {
        "id": "ex5R0y_cATmY"
      },
      "execution_count": null,
      "outputs": []
    },
    {
      "cell_type": "code",
      "source": [
        "table = 'record'\n",
        "device = ('2b6f28fffe0000b4', '2b6f28fffe0000b3', '2b6f28fffe0000b2', '2b6f28fffe0000b1', '2b6f28fffe0000b5', '2b6f28fffe0000b6', '2b6f28fffe0000b7')\n",
        "timestamp = ('2022-02-07', '2022-05-01')\n",
        "query = \"SELECT DATE_FORMAT(Timestamp, '%Y-%m-%d %H:00:00') as dt, \\\n",
        "AVG(Temperature) as Temperature, AVG(Humidity) as Humidity, AVG(Pressure) as Pressure, AVG(LightW) as LightW, \\\n",
        "AVG(MotionAVG) as MotionAVG, AVG(MotionRMCS) as MotionRMCS, AVG(MotionSTDR) as MotionSTDR FROM {} WHERE \\\n",
        "DevEUI IN {} GROUP BY dt HAVING dt >= '{} %' AND dt <= '{} %';\".format(table,device,timestamp[0],timestamp[1])\n",
        "data = pd.read_sql_query(query,cnxn)"
      ],
      "metadata": {
        "id": "NmUry3Q1ArrO"
      },
      "execution_count": null,
      "outputs": []
    },
    {
      "cell_type": "code",
      "source": [
        "data"
      ],
      "metadata": {
        "colab": {
          "base_uri": "https://localhost:8080/",
          "height": 424
        },
        "id": "4BLz-FUXGOYi",
        "outputId": "fad703bb-1e5d-40a9-ea42-45ebb2ab0bb7"
      },
      "execution_count": null,
      "outputs": [
        {
          "output_type": "execute_result",
          "data": {
            "text/plain": [
              "                       dt  Temperature   Humidity     Pressure   LightW  \\\n",
              "0     2022-02-07 05:00:00    79.925000  21.083333  1027.275000  84.2500   \n",
              "1     2022-02-07 06:00:00    79.862500  23.593750  1026.150000   5.0625   \n",
              "2     2022-02-07 07:00:00    79.444444  22.750000  1025.866667   0.0000   \n",
              "3     2022-02-07 08:00:00    79.361111  22.666667  1025.072222   0.0000   \n",
              "4     2022-02-07 09:00:00    79.335294  22.823529  1024.505882   0.0000   \n",
              "...                   ...          ...        ...          ...      ...   \n",
              "1095  2022-04-30 19:00:00    79.425000  31.675000   988.675000  11.5500   \n",
              "1096  2022-04-30 20:00:00    79.907317  32.036585   988.029268  11.0732   \n",
              "1097  2022-04-30 21:00:00    80.089189  32.216216   987.464865  10.3514   \n",
              "1098  2022-04-30 22:00:00    80.322500  31.700000   986.975000  16.4500   \n",
              "1099  2022-04-30 23:00:00    80.967568  33.040541   986.432432  14.7838   \n",
              "\n",
              "      MotionAVG  MotionRMCS  MotionSTDR  \n",
              "0       58.5000    234.5000     58.7500  \n",
              "1       58.6875    189.1875     47.3750  \n",
              "2       62.3333     42.2778     14.4444  \n",
              "3       62.3333     35.1667      9.6667  \n",
              "4       62.2941     35.8235     10.5882  \n",
              "...         ...         ...         ...  \n",
              "1095    51.1500     22.0250      6.6250  \n",
              "1096    52.9756     23.6098      9.0244  \n",
              "1097    52.5676     21.2162      3.4324  \n",
              "1098    51.6750     23.3750      9.3500  \n",
              "1099    50.2432     20.0811      3.7297  \n",
              "\n",
              "[1100 rows x 8 columns]"
            ],
            "text/html": [
              "\n",
              "  <div id=\"df-7ea81b98-53b4-40fc-be8f-57057e7c8242\">\n",
              "    <div class=\"colab-df-container\">\n",
              "      <div>\n",
              "<style scoped>\n",
              "    .dataframe tbody tr th:only-of-type {\n",
              "        vertical-align: middle;\n",
              "    }\n",
              "\n",
              "    .dataframe tbody tr th {\n",
              "        vertical-align: top;\n",
              "    }\n",
              "\n",
              "    .dataframe thead th {\n",
              "        text-align: right;\n",
              "    }\n",
              "</style>\n",
              "<table border=\"1\" class=\"dataframe\">\n",
              "  <thead>\n",
              "    <tr style=\"text-align: right;\">\n",
              "      <th></th>\n",
              "      <th>dt</th>\n",
              "      <th>Temperature</th>\n",
              "      <th>Humidity</th>\n",
              "      <th>Pressure</th>\n",
              "      <th>LightW</th>\n",
              "      <th>MotionAVG</th>\n",
              "      <th>MotionRMCS</th>\n",
              "      <th>MotionSTDR</th>\n",
              "    </tr>\n",
              "  </thead>\n",
              "  <tbody>\n",
              "    <tr>\n",
              "      <th>0</th>\n",
              "      <td>2022-02-07 05:00:00</td>\n",
              "      <td>79.925000</td>\n",
              "      <td>21.083333</td>\n",
              "      <td>1027.275000</td>\n",
              "      <td>84.2500</td>\n",
              "      <td>58.5000</td>\n",
              "      <td>234.5000</td>\n",
              "      <td>58.7500</td>\n",
              "    </tr>\n",
              "    <tr>\n",
              "      <th>1</th>\n",
              "      <td>2022-02-07 06:00:00</td>\n",
              "      <td>79.862500</td>\n",
              "      <td>23.593750</td>\n",
              "      <td>1026.150000</td>\n",
              "      <td>5.0625</td>\n",
              "      <td>58.6875</td>\n",
              "      <td>189.1875</td>\n",
              "      <td>47.3750</td>\n",
              "    </tr>\n",
              "    <tr>\n",
              "      <th>2</th>\n",
              "      <td>2022-02-07 07:00:00</td>\n",
              "      <td>79.444444</td>\n",
              "      <td>22.750000</td>\n",
              "      <td>1025.866667</td>\n",
              "      <td>0.0000</td>\n",
              "      <td>62.3333</td>\n",
              "      <td>42.2778</td>\n",
              "      <td>14.4444</td>\n",
              "    </tr>\n",
              "    <tr>\n",
              "      <th>3</th>\n",
              "      <td>2022-02-07 08:00:00</td>\n",
              "      <td>79.361111</td>\n",
              "      <td>22.666667</td>\n",
              "      <td>1025.072222</td>\n",
              "      <td>0.0000</td>\n",
              "      <td>62.3333</td>\n",
              "      <td>35.1667</td>\n",
              "      <td>9.6667</td>\n",
              "    </tr>\n",
              "    <tr>\n",
              "      <th>4</th>\n",
              "      <td>2022-02-07 09:00:00</td>\n",
              "      <td>79.335294</td>\n",
              "      <td>22.823529</td>\n",
              "      <td>1024.505882</td>\n",
              "      <td>0.0000</td>\n",
              "      <td>62.2941</td>\n",
              "      <td>35.8235</td>\n",
              "      <td>10.5882</td>\n",
              "    </tr>\n",
              "    <tr>\n",
              "      <th>...</th>\n",
              "      <td>...</td>\n",
              "      <td>...</td>\n",
              "      <td>...</td>\n",
              "      <td>...</td>\n",
              "      <td>...</td>\n",
              "      <td>...</td>\n",
              "      <td>...</td>\n",
              "      <td>...</td>\n",
              "    </tr>\n",
              "    <tr>\n",
              "      <th>1095</th>\n",
              "      <td>2022-04-30 19:00:00</td>\n",
              "      <td>79.425000</td>\n",
              "      <td>31.675000</td>\n",
              "      <td>988.675000</td>\n",
              "      <td>11.5500</td>\n",
              "      <td>51.1500</td>\n",
              "      <td>22.0250</td>\n",
              "      <td>6.6250</td>\n",
              "    </tr>\n",
              "    <tr>\n",
              "      <th>1096</th>\n",
              "      <td>2022-04-30 20:00:00</td>\n",
              "      <td>79.907317</td>\n",
              "      <td>32.036585</td>\n",
              "      <td>988.029268</td>\n",
              "      <td>11.0732</td>\n",
              "      <td>52.9756</td>\n",
              "      <td>23.6098</td>\n",
              "      <td>9.0244</td>\n",
              "    </tr>\n",
              "    <tr>\n",
              "      <th>1097</th>\n",
              "      <td>2022-04-30 21:00:00</td>\n",
              "      <td>80.089189</td>\n",
              "      <td>32.216216</td>\n",
              "      <td>987.464865</td>\n",
              "      <td>10.3514</td>\n",
              "      <td>52.5676</td>\n",
              "      <td>21.2162</td>\n",
              "      <td>3.4324</td>\n",
              "    </tr>\n",
              "    <tr>\n",
              "      <th>1098</th>\n",
              "      <td>2022-04-30 22:00:00</td>\n",
              "      <td>80.322500</td>\n",
              "      <td>31.700000</td>\n",
              "      <td>986.975000</td>\n",
              "      <td>16.4500</td>\n",
              "      <td>51.6750</td>\n",
              "      <td>23.3750</td>\n",
              "      <td>9.3500</td>\n",
              "    </tr>\n",
              "    <tr>\n",
              "      <th>1099</th>\n",
              "      <td>2022-04-30 23:00:00</td>\n",
              "      <td>80.967568</td>\n",
              "      <td>33.040541</td>\n",
              "      <td>986.432432</td>\n",
              "      <td>14.7838</td>\n",
              "      <td>50.2432</td>\n",
              "      <td>20.0811</td>\n",
              "      <td>3.7297</td>\n",
              "    </tr>\n",
              "  </tbody>\n",
              "</table>\n",
              "<p>1100 rows × 8 columns</p>\n",
              "</div>\n",
              "      <button class=\"colab-df-convert\" onclick=\"convertToInteractive('df-7ea81b98-53b4-40fc-be8f-57057e7c8242')\"\n",
              "              title=\"Convert this dataframe to an interactive table.\"\n",
              "              style=\"display:none;\">\n",
              "        \n",
              "  <svg xmlns=\"http://www.w3.org/2000/svg\" height=\"24px\"viewBox=\"0 0 24 24\"\n",
              "       width=\"24px\">\n",
              "    <path d=\"M0 0h24v24H0V0z\" fill=\"none\"/>\n",
              "    <path d=\"M18.56 5.44l.94 2.06.94-2.06 2.06-.94-2.06-.94-.94-2.06-.94 2.06-2.06.94zm-11 1L8.5 8.5l.94-2.06 2.06-.94-2.06-.94L8.5 2.5l-.94 2.06-2.06.94zm10 10l.94 2.06.94-2.06 2.06-.94-2.06-.94-.94-2.06-.94 2.06-2.06.94z\"/><path d=\"M17.41 7.96l-1.37-1.37c-.4-.4-.92-.59-1.43-.59-.52 0-1.04.2-1.43.59L10.3 9.45l-7.72 7.72c-.78.78-.78 2.05 0 2.83L4 21.41c.39.39.9.59 1.41.59.51 0 1.02-.2 1.41-.59l7.78-7.78 2.81-2.81c.8-.78.8-2.07 0-2.86zM5.41 20L4 18.59l7.72-7.72 1.47 1.35L5.41 20z\"/>\n",
              "  </svg>\n",
              "      </button>\n",
              "      \n",
              "  <style>\n",
              "    .colab-df-container {\n",
              "      display:flex;\n",
              "      flex-wrap:wrap;\n",
              "      gap: 12px;\n",
              "    }\n",
              "\n",
              "    .colab-df-convert {\n",
              "      background-color: #E8F0FE;\n",
              "      border: none;\n",
              "      border-radius: 50%;\n",
              "      cursor: pointer;\n",
              "      display: none;\n",
              "      fill: #1967D2;\n",
              "      height: 32px;\n",
              "      padding: 0 0 0 0;\n",
              "      width: 32px;\n",
              "    }\n",
              "\n",
              "    .colab-df-convert:hover {\n",
              "      background-color: #E2EBFA;\n",
              "      box-shadow: 0px 1px 2px rgba(60, 64, 67, 0.3), 0px 1px 3px 1px rgba(60, 64, 67, 0.15);\n",
              "      fill: #174EA6;\n",
              "    }\n",
              "\n",
              "    [theme=dark] .colab-df-convert {\n",
              "      background-color: #3B4455;\n",
              "      fill: #D2E3FC;\n",
              "    }\n",
              "\n",
              "    [theme=dark] .colab-df-convert:hover {\n",
              "      background-color: #434B5C;\n",
              "      box-shadow: 0px 1px 3px 1px rgba(0, 0, 0, 0.15);\n",
              "      filter: drop-shadow(0px 1px 2px rgba(0, 0, 0, 0.3));\n",
              "      fill: #FFFFFF;\n",
              "    }\n",
              "  </style>\n",
              "\n",
              "      <script>\n",
              "        const buttonEl =\n",
              "          document.querySelector('#df-7ea81b98-53b4-40fc-be8f-57057e7c8242 button.colab-df-convert');\n",
              "        buttonEl.style.display =\n",
              "          google.colab.kernel.accessAllowed ? 'block' : 'none';\n",
              "\n",
              "        async function convertToInteractive(key) {\n",
              "          const element = document.querySelector('#df-7ea81b98-53b4-40fc-be8f-57057e7c8242');\n",
              "          const dataTable =\n",
              "            await google.colab.kernel.invokeFunction('convertToInteractive',\n",
              "                                                     [key], {});\n",
              "          if (!dataTable) return;\n",
              "\n",
              "          const docLinkHtml = 'Like what you see? Visit the ' +\n",
              "            '<a target=\"_blank\" href=https://colab.research.google.com/notebooks/data_table.ipynb>data table notebook</a>'\n",
              "            + ' to learn more about interactive tables.';\n",
              "          element.innerHTML = '';\n",
              "          dataTable['output_type'] = 'display_data';\n",
              "          await google.colab.output.renderOutput(dataTable, element);\n",
              "          const docLink = document.createElement('div');\n",
              "          docLink.innerHTML = docLinkHtml;\n",
              "          element.appendChild(docLink);\n",
              "        }\n",
              "      </script>\n",
              "    </div>\n",
              "  </div>\n",
              "  "
            ]
          },
          "metadata": {},
          "execution_count": 34
        }
      ]
    }
  ]
}